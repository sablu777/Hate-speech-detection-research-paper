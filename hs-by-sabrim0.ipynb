{
 "cells": [
  {
   "cell_type": "code",
   "execution_count": 1,
   "id": "6ca320e0",
   "metadata": {
    "_cell_guid": "b1076dfc-b9ad-4769-8c92-a6c4dae69d19",
    "_uuid": "8f2839f25d086af736a60e9eeb907d3b93b6e0e5",
    "execution": {
     "iopub.execute_input": "2024-05-31T07:14:18.969527Z",
     "iopub.status.busy": "2024-05-31T07:14:18.968535Z",
     "iopub.status.idle": "2024-05-31T07:14:18.990418Z",
     "shell.execute_reply": "2024-05-31T07:14:18.988869Z"
    },
    "papermill": {
     "duration": 0.033799,
     "end_time": "2024-05-31T07:14:18.992998",
     "exception": false,
     "start_time": "2024-05-31T07:14:18.959199",
     "status": "completed"
    },
    "tags": []
   },
   "outputs": [
    {
     "name": "stdout",
     "output_type": "stream",
     "text": [
      "/kaggle/input/bengali-hate-speech-dataset/Bengali hate speech .csv\n"
     ]
    }
   ],
   "source": [
    "import os\n",
    "for dirname, _, filenames in os.walk('/kaggle/input'):\n",
    "    for filename in filenames:\n",
    "        print(os.path.join(dirname, filename))\n"
   ]
  },
  {
   "cell_type": "code",
   "execution_count": 2,
   "id": "1fd0aa91",
   "metadata": {
    "execution": {
     "iopub.execute_input": "2024-05-31T07:14:19.007378Z",
     "iopub.status.busy": "2024-05-31T07:14:19.006989Z",
     "iopub.status.idle": "2024-05-31T07:14:22.975199Z",
     "shell.execute_reply": "2024-05-31T07:14:22.974173Z"
    },
    "papermill": {
     "duration": 3.978787,
     "end_time": "2024-05-31T07:14:22.978117",
     "exception": false,
     "start_time": "2024-05-31T07:14:18.999330",
     "status": "completed"
    },
    "tags": []
   },
   "outputs": [],
   "source": [
    "from sklearn.feature_extraction.text import TfidfVectorizer\n",
    "import pandas as pd\n",
    "import numpy as np\n",
    "import re\n",
    "import seaborn as sns\n",
    "from matplotlib import pyplot as plt\n",
    "from sklearn.model_selection import train_test_split\n",
    "from sklearn.preprocessing import LabelBinarizer\n",
    "import warnings\n",
    "%matplotlib inline\n",
    "import pandas as pd\n",
    "import numpy as np\n",
    "from sklearn.linear_model import LogisticRegression\n",
    "from sklearn.metrics import accuracy_score, precision_score, confusion_matrix\n",
    "from imblearn.over_sampling import SMOTE, ADASYN\n",
    "warnings.filterwarnings('ignore')\n",
    "import nltk\n",
    "from nltk.corpus import stopwords\n",
    "from nltk.tokenize import word_tokenize\n",
    "from sklearn.feature_selection import SelectKBest, chi2\n"
   ]
  },
  {
   "cell_type": "code",
   "execution_count": 3,
   "id": "54441fce",
   "metadata": {
    "execution": {
     "iopub.execute_input": "2024-05-31T07:14:22.999789Z",
     "iopub.status.busy": "2024-05-31T07:14:22.997882Z",
     "iopub.status.idle": "2024-05-31T07:14:23.325147Z",
     "shell.execute_reply": "2024-05-31T07:14:23.324083Z"
    },
    "papermill": {
     "duration": 0.340222,
     "end_time": "2024-05-31T07:14:23.328462",
     "exception": false,
     "start_time": "2024-05-31T07:14:22.988240",
     "status": "completed"
    },
    "tags": []
   },
   "outputs": [
    {
     "data": {
      "text/html": [
       "<div>\n",
       "<style scoped>\n",
       "    .dataframe tbody tr th:only-of-type {\n",
       "        vertical-align: middle;\n",
       "    }\n",
       "\n",
       "    .dataframe tbody tr th {\n",
       "        vertical-align: top;\n",
       "    }\n",
       "\n",
       "    .dataframe thead th {\n",
       "        text-align: right;\n",
       "    }\n",
       "</style>\n",
       "<table border=\"1\" class=\"dataframe\">\n",
       "  <thead>\n",
       "    <tr style=\"text-align: right;\">\n",
       "      <th></th>\n",
       "      <th>sentence</th>\n",
       "      <th>hate</th>\n",
       "      <th>category</th>\n",
       "    </tr>\n",
       "  </thead>\n",
       "  <tbody>\n",
       "    <tr>\n",
       "      <th>0</th>\n",
       "      <td>যত্তসব পাপন শালার ফাজলামী!!!!!</td>\n",
       "      <td>1</td>\n",
       "      <td>sports</td>\n",
       "    </tr>\n",
       "    <tr>\n",
       "      <th>1</th>\n",
       "      <td>পাপন শালা রে রিমান্ডে নেওয়া দরকার</td>\n",
       "      <td>1</td>\n",
       "      <td>sports</td>\n",
       "    </tr>\n",
       "    <tr>\n",
       "      <th>2</th>\n",
       "      <td>জিল্লুর রহমান স্যারের ছেলে এতো বড় জারজ হবে এটা...</td>\n",
       "      <td>1</td>\n",
       "      <td>sports</td>\n",
       "    </tr>\n",
       "    <tr>\n",
       "      <th>3</th>\n",
       "      <td>শালা লুচ্চা দেখতে পাঠার মত দেখা যায়</td>\n",
       "      <td>1</td>\n",
       "      <td>sports</td>\n",
       "    </tr>\n",
       "    <tr>\n",
       "      <th>4</th>\n",
       "      <td>তুই তো শালা গাজা খাইছচ।তুর মার হেডায় খেলবে সাকিব</td>\n",
       "      <td>1</td>\n",
       "      <td>sports</td>\n",
       "    </tr>\n",
       "  </tbody>\n",
       "</table>\n",
       "</div>"
      ],
      "text/plain": [
       "                                            sentence  hate category\n",
       "0                     যত্তসব পাপন শালার ফাজলামী!!!!!     1   sports\n",
       "1                  পাপন শালা রে রিমান্ডে নেওয়া দরকার     1   sports\n",
       "2  জিল্লুর রহমান স্যারের ছেলে এতো বড় জারজ হবে এটা...     1   sports\n",
       "3                শালা লুচ্চা দেখতে পাঠার মত দেখা যায়     1   sports\n",
       "4   তুই তো শালা গাজা খাইছচ।তুর মার হেডায় খেলবে সাকিব     1   sports"
      ]
     },
     "execution_count": 3,
     "metadata": {},
     "output_type": "execute_result"
    }
   ],
   "source": [
    "df = pd.read_csv(\"/kaggle/input/bengali-hate-speech-dataset/Bengali hate speech .csv\")\n",
    "df.head()"
   ]
  },
  {
   "cell_type": "code",
   "execution_count": 4,
   "id": "0eca6882",
   "metadata": {
    "execution": {
     "iopub.execute_input": "2024-05-31T07:14:23.342918Z",
     "iopub.status.busy": "2024-05-31T07:14:23.342525Z",
     "iopub.status.idle": "2024-05-31T07:14:23.355347Z",
     "shell.execute_reply": "2024-05-31T07:14:23.354330Z"
    },
    "papermill": {
     "duration": 0.022637,
     "end_time": "2024-05-31T07:14:23.357618",
     "exception": false,
     "start_time": "2024-05-31T07:14:23.334981",
     "status": "completed"
    },
    "tags": []
   },
   "outputs": [],
   "source": [
    "df.drop(columns=['category'], inplace=True)"
   ]
  },
  {
   "cell_type": "code",
   "execution_count": 5,
   "id": "c7ab75d2",
   "metadata": {
    "execution": {
     "iopub.execute_input": "2024-05-31T07:14:23.372224Z",
     "iopub.status.busy": "2024-05-31T07:14:23.371834Z",
     "iopub.status.idle": "2024-05-31T07:14:23.384806Z",
     "shell.execute_reply": "2024-05-31T07:14:23.383530Z"
    },
    "papermill": {
     "duration": 0.023005,
     "end_time": "2024-05-31T07:14:23.387006",
     "exception": false,
     "start_time": "2024-05-31T07:14:23.364001",
     "status": "completed"
    },
    "tags": []
   },
   "outputs": [
    {
     "data": {
      "text/html": [
       "<div>\n",
       "<style scoped>\n",
       "    .dataframe tbody tr th:only-of-type {\n",
       "        vertical-align: middle;\n",
       "    }\n",
       "\n",
       "    .dataframe tbody tr th {\n",
       "        vertical-align: top;\n",
       "    }\n",
       "\n",
       "    .dataframe thead th {\n",
       "        text-align: right;\n",
       "    }\n",
       "</style>\n",
       "<table border=\"1\" class=\"dataframe\">\n",
       "  <thead>\n",
       "    <tr style=\"text-align: right;\">\n",
       "      <th></th>\n",
       "      <th>sentence</th>\n",
       "      <th>hate</th>\n",
       "    </tr>\n",
       "  </thead>\n",
       "  <tbody>\n",
       "    <tr>\n",
       "      <th>0</th>\n",
       "      <td>যত্তসব পাপন শালার ফাজলামী!!!!!</td>\n",
       "      <td>1</td>\n",
       "    </tr>\n",
       "    <tr>\n",
       "      <th>1</th>\n",
       "      <td>পাপন শালা রে রিমান্ডে নেওয়া দরকার</td>\n",
       "      <td>1</td>\n",
       "    </tr>\n",
       "    <tr>\n",
       "      <th>2</th>\n",
       "      <td>জিল্লুর রহমান স্যারের ছেলে এতো বড় জারজ হবে এটা...</td>\n",
       "      <td>1</td>\n",
       "    </tr>\n",
       "    <tr>\n",
       "      <th>3</th>\n",
       "      <td>শালা লুচ্চা দেখতে পাঠার মত দেখা যায়</td>\n",
       "      <td>1</td>\n",
       "    </tr>\n",
       "    <tr>\n",
       "      <th>4</th>\n",
       "      <td>তুই তো শালা গাজা খাইছচ।তুর মার হেডায় খেলবে সাকিব</td>\n",
       "      <td>1</td>\n",
       "    </tr>\n",
       "    <tr>\n",
       "      <th>...</th>\n",
       "      <td>...</td>\n",
       "      <td>...</td>\n",
       "    </tr>\n",
       "    <tr>\n",
       "      <th>29995</th>\n",
       "      <td>আমার মনে হচ্ছে মেনে নেয়া উচিত</td>\n",
       "      <td>0</td>\n",
       "    </tr>\n",
       "    <tr>\n",
       "      <th>29996</th>\n",
       "      <td>আমি ধন্যবাদ জানাই আইনপসাসনকে</td>\n",
       "      <td>0</td>\n",
       "    </tr>\n",
       "    <tr>\n",
       "      <th>29997</th>\n",
       "      <td>কাসমির কাসমিরই নিজশ্যই সাদিন হওয়ার দরকার</td>\n",
       "      <td>0</td>\n",
       "    </tr>\n",
       "    <tr>\n",
       "      <th>29998</th>\n",
       "      <td>কলমি পিলিজ আপু মনি অনেক কিওট লাগছে</td>\n",
       "      <td>0</td>\n",
       "    </tr>\n",
       "    <tr>\n",
       "      <th>29999</th>\n",
       "      <td>আমি পাকিস্তান এর সাথে জড়িত</td>\n",
       "      <td>0</td>\n",
       "    </tr>\n",
       "  </tbody>\n",
       "</table>\n",
       "<p>30000 rows × 2 columns</p>\n",
       "</div>"
      ],
      "text/plain": [
       "                                                sentence  hate\n",
       "0                         যত্তসব পাপন শালার ফাজলামী!!!!!     1\n",
       "1                      পাপন শালা রে রিমান্ডে নেওয়া দরকার     1\n",
       "2      জিল্লুর রহমান স্যারের ছেলে এতো বড় জারজ হবে এটা...     1\n",
       "3                    শালা লুচ্চা দেখতে পাঠার মত দেখা যায়     1\n",
       "4       তুই তো শালা গাজা খাইছচ।তুর মার হেডায় খেলবে সাকিব     1\n",
       "...                                                  ...   ...\n",
       "29995                      আমার মনে হচ্ছে মেনে নেয়া উচিত     0\n",
       "29996                       আমি ধন্যবাদ জানাই আইনপসাসনকে     0\n",
       "29997           কাসমির কাসমিরই নিজশ্যই সাদিন হওয়ার দরকার     0\n",
       "29998                 কলমি পিলিজ আপু মনি অনেক কিওট লাগছে     0\n",
       "29999                         আমি পাকিস্তান এর সাথে জড়িত     0\n",
       "\n",
       "[30000 rows x 2 columns]"
      ]
     },
     "execution_count": 5,
     "metadata": {},
     "output_type": "execute_result"
    }
   ],
   "source": [
    "df"
   ]
  },
  {
   "cell_type": "code",
   "execution_count": 6,
   "id": "d70dcdbb",
   "metadata": {
    "execution": {
     "iopub.execute_input": "2024-05-31T07:14:23.403207Z",
     "iopub.status.busy": "2024-05-31T07:14:23.402144Z",
     "iopub.status.idle": "2024-05-31T07:14:23.839283Z",
     "shell.execute_reply": "2024-05-31T07:14:23.837975Z"
    },
    "papermill": {
     "duration": 0.448239,
     "end_time": "2024-05-31T07:14:23.841876",
     "exception": false,
     "start_time": "2024-05-31T07:14:23.393637",
     "status": "completed"
    },
    "tags": []
   },
   "outputs": [],
   "source": [
    "def punctuations_remover(my_str):\n",
    "    punctuations = '''````£|¢|Ñ+-*/=EROero৳০১২৩৪৫৬৭৮৯012–34567•89।!()-[]{};:'\"“\\’,<>./?@#$%^&*_~‘—॥”‰🤣⚽️✌�￰৷￰'''\n",
    "    no_punct = \" \"\n",
    "    for char in my_str:\n",
    "        if char not in punctuations:\n",
    "            no_punct = no_punct + char\n",
    "    no_punct = no_punct.replace(\"\\n\",' ')\n",
    "    return no_punct\n",
    "df.sentence = df.sentence.apply(lambda x: punctuations_remover(x))"
   ]
  },
  {
   "cell_type": "code",
   "execution_count": 7,
   "id": "9224af74",
   "metadata": {
    "execution": {
     "iopub.execute_input": "2024-05-31T07:14:23.857246Z",
     "iopub.status.busy": "2024-05-31T07:14:23.856869Z",
     "iopub.status.idle": "2024-05-31T07:14:23.971674Z",
     "shell.execute_reply": "2024-05-31T07:14:23.970428Z"
    },
    "papermill": {
     "duration": 0.125861,
     "end_time": "2024-05-31T07:14:23.974447",
     "exception": false,
     "start_time": "2024-05-31T07:14:23.848586",
     "status": "completed"
    },
    "tags": []
   },
   "outputs": [],
   "source": [
    "# Define function for text cleaning\n",
    "def text_cleaner(text):\n",
    "    # Remove non-Bengali characters and punctuation\n",
    "    cleaned_text = re.sub(r'[^\\u0980-\\u09FF\\s]', '', text)\n",
    "    # Convert to lowercase\n",
    "    cleaned_text = cleaned_text.lower()\n",
    "    return cleaned_text\n",
    "\n",
    "# Apply text cleaning\n",
    "df['sentence'] = df['sentence'].apply(text_cleaner)"
   ]
  },
  {
   "cell_type": "code",
   "execution_count": 8,
   "id": "b7d3a607",
   "metadata": {
    "execution": {
     "iopub.execute_input": "2024-05-31T07:14:23.990974Z",
     "iopub.status.busy": "2024-05-31T07:14:23.990591Z",
     "iopub.status.idle": "2024-05-31T07:14:24.002428Z",
     "shell.execute_reply": "2024-05-31T07:14:24.001301Z"
    },
    "papermill": {
     "duration": 0.022722,
     "end_time": "2024-05-31T07:14:24.004965",
     "exception": false,
     "start_time": "2024-05-31T07:14:23.982243",
     "status": "completed"
    },
    "tags": []
   },
   "outputs": [
    {
     "data": {
      "text/html": [
       "<div>\n",
       "<style scoped>\n",
       "    .dataframe tbody tr th:only-of-type {\n",
       "        vertical-align: middle;\n",
       "    }\n",
       "\n",
       "    .dataframe tbody tr th {\n",
       "        vertical-align: top;\n",
       "    }\n",
       "\n",
       "    .dataframe thead th {\n",
       "        text-align: right;\n",
       "    }\n",
       "</style>\n",
       "<table border=\"1\" class=\"dataframe\">\n",
       "  <thead>\n",
       "    <tr style=\"text-align: right;\">\n",
       "      <th></th>\n",
       "      <th>sentence</th>\n",
       "      <th>hate</th>\n",
       "    </tr>\n",
       "  </thead>\n",
       "  <tbody>\n",
       "    <tr>\n",
       "      <th>0</th>\n",
       "      <td>যত্তসব পাপন শালার ফাজলামী</td>\n",
       "      <td>1</td>\n",
       "    </tr>\n",
       "    <tr>\n",
       "      <th>1</th>\n",
       "      <td>পাপন শালা রে রিমান্ডে নেওয়া দরকার</td>\n",
       "      <td>1</td>\n",
       "    </tr>\n",
       "    <tr>\n",
       "      <th>2</th>\n",
       "      <td>জিল্লুর রহমান স্যারের ছেলে এতো বড় জারজ হবে এট...</td>\n",
       "      <td>1</td>\n",
       "    </tr>\n",
       "    <tr>\n",
       "      <th>3</th>\n",
       "      <td>শালা লুচ্চা দেখতে পাঠার মত দেখা যায়</td>\n",
       "      <td>1</td>\n",
       "    </tr>\n",
       "    <tr>\n",
       "      <th>4</th>\n",
       "      <td>তুই তো শালা গাজা খাইছচতুর মার হেডায় খেলবে সাকিব</td>\n",
       "      <td>1</td>\n",
       "    </tr>\n",
       "    <tr>\n",
       "      <th>...</th>\n",
       "      <td>...</td>\n",
       "      <td>...</td>\n",
       "    </tr>\n",
       "    <tr>\n",
       "      <th>29995</th>\n",
       "      <td>আমার মনে হচ্ছে মেনে নেয়া উচিত</td>\n",
       "      <td>0</td>\n",
       "    </tr>\n",
       "    <tr>\n",
       "      <th>29996</th>\n",
       "      <td>আমি ধন্যবাদ জানাই আইনপসাসনকে</td>\n",
       "      <td>0</td>\n",
       "    </tr>\n",
       "    <tr>\n",
       "      <th>29997</th>\n",
       "      <td>কাসমির কাসমিরই নিজশ্যই সাদিন হওয়ার দরকার</td>\n",
       "      <td>0</td>\n",
       "    </tr>\n",
       "    <tr>\n",
       "      <th>29998</th>\n",
       "      <td>কলমি পিলিজ আপু মনি অনেক কিওট লাগছে</td>\n",
       "      <td>0</td>\n",
       "    </tr>\n",
       "    <tr>\n",
       "      <th>29999</th>\n",
       "      <td>আমি পাকিস্তান এর সাথে জড়িত</td>\n",
       "      <td>0</td>\n",
       "    </tr>\n",
       "  </tbody>\n",
       "</table>\n",
       "<p>30000 rows × 2 columns</p>\n",
       "</div>"
      ],
      "text/plain": [
       "                                                sentence  hate\n",
       "0                              যত্তসব পাপন শালার ফাজলামী     1\n",
       "1                      পাপন শালা রে রিমান্ডে নেওয়া দরকার     1\n",
       "2       জিল্লুর রহমান স্যারের ছেলে এতো বড় জারজ হবে এট...     1\n",
       "3                    শালা লুচ্চা দেখতে পাঠার মত দেখা যায়     1\n",
       "4        তুই তো শালা গাজা খাইছচতুর মার হেডায় খেলবে সাকিব     1\n",
       "...                                                  ...   ...\n",
       "29995                      আমার মনে হচ্ছে মেনে নেয়া উচিত     0\n",
       "29996                       আমি ধন্যবাদ জানাই আইনপসাসনকে     0\n",
       "29997           কাসমির কাসমিরই নিজশ্যই সাদিন হওয়ার দরকার     0\n",
       "29998                 কলমি পিলিজ আপু মনি অনেক কিওট লাগছে     0\n",
       "29999                         আমি পাকিস্তান এর সাথে জড়িত     0\n",
       "\n",
       "[30000 rows x 2 columns]"
      ]
     },
     "execution_count": 8,
     "metadata": {},
     "output_type": "execute_result"
    }
   ],
   "source": [
    "df"
   ]
  },
  {
   "cell_type": "code",
   "execution_count": 9,
   "id": "02d7675b",
   "metadata": {
    "execution": {
     "iopub.execute_input": "2024-05-31T07:14:24.020243Z",
     "iopub.status.busy": "2024-05-31T07:14:24.019874Z",
     "iopub.status.idle": "2024-05-31T07:14:24.035083Z",
     "shell.execute_reply": "2024-05-31T07:14:24.033843Z"
    },
    "papermill": {
     "duration": 0.025619,
     "end_time": "2024-05-31T07:14:24.037440",
     "exception": false,
     "start_time": "2024-05-31T07:14:24.011821",
     "status": "completed"
    },
    "tags": []
   },
   "outputs": [
    {
     "data": {
      "text/html": [
       "<div>\n",
       "<style scoped>\n",
       "    .dataframe tbody tr th:only-of-type {\n",
       "        vertical-align: middle;\n",
       "    }\n",
       "\n",
       "    .dataframe tbody tr th {\n",
       "        vertical-align: top;\n",
       "    }\n",
       "\n",
       "    .dataframe thead th {\n",
       "        text-align: right;\n",
       "    }\n",
       "</style>\n",
       "<table border=\"1\" class=\"dataframe\">\n",
       "  <thead>\n",
       "    <tr style=\"text-align: right;\">\n",
       "      <th></th>\n",
       "      <th>sentence</th>\n",
       "      <th>hate</th>\n",
       "    </tr>\n",
       "  </thead>\n",
       "  <tbody>\n",
       "    <tr>\n",
       "      <th>0</th>\n",
       "      <td>যত্তসব পাপন শালার ফাজলামী</td>\n",
       "      <td>1</td>\n",
       "    </tr>\n",
       "    <tr>\n",
       "      <th>1</th>\n",
       "      <td>পাপন শালা রে রিমান্ডে নেওয়া দরকার</td>\n",
       "      <td>1</td>\n",
       "    </tr>\n",
       "    <tr>\n",
       "      <th>2</th>\n",
       "      <td>জিল্লুর রহমান স্যারের ছেলে এতো বড় জারজ হবে এট...</td>\n",
       "      <td>1</td>\n",
       "    </tr>\n",
       "    <tr>\n",
       "      <th>3</th>\n",
       "      <td>শালা লুচ্চা দেখতে পাঠার মত দেখা যায়</td>\n",
       "      <td>1</td>\n",
       "    </tr>\n",
       "    <tr>\n",
       "      <th>4</th>\n",
       "      <td>তুই তো শালা গাজা খাইছচতুর মার হেডায় খেলবে সাকিব</td>\n",
       "      <td>1</td>\n",
       "    </tr>\n",
       "    <tr>\n",
       "      <th>...</th>\n",
       "      <td>...</td>\n",
       "      <td>...</td>\n",
       "    </tr>\n",
       "    <tr>\n",
       "      <th>29995</th>\n",
       "      <td>আমার মনে হচ্ছে মেনে নেয়া উচিত</td>\n",
       "      <td>0</td>\n",
       "    </tr>\n",
       "    <tr>\n",
       "      <th>29996</th>\n",
       "      <td>আমি ধন্যবাদ জানাই আইনপসাসনকে</td>\n",
       "      <td>0</td>\n",
       "    </tr>\n",
       "    <tr>\n",
       "      <th>29997</th>\n",
       "      <td>কাসমির কাসমিরই নিজশ্যই সাদিন হওয়ার দরকার</td>\n",
       "      <td>0</td>\n",
       "    </tr>\n",
       "    <tr>\n",
       "      <th>29998</th>\n",
       "      <td>কলমি পিলিজ আপু মনি অনেক কিওট লাগছে</td>\n",
       "      <td>0</td>\n",
       "    </tr>\n",
       "    <tr>\n",
       "      <th>29999</th>\n",
       "      <td>আমি পাকিস্তান এর সাথে জড়িত</td>\n",
       "      <td>0</td>\n",
       "    </tr>\n",
       "  </tbody>\n",
       "</table>\n",
       "<p>30000 rows × 2 columns</p>\n",
       "</div>"
      ],
      "text/plain": [
       "                                                sentence  hate\n",
       "0                              যত্তসব পাপন শালার ফাজলামী     1\n",
       "1                      পাপন শালা রে রিমান্ডে নেওয়া দরকার     1\n",
       "2       জিল্লুর রহমান স্যারের ছেলে এতো বড় জারজ হবে এট...     1\n",
       "3                    শালা লুচ্চা দেখতে পাঠার মত দেখা যায়     1\n",
       "4        তুই তো শালা গাজা খাইছচতুর মার হেডায় খেলবে সাকিব     1\n",
       "...                                                  ...   ...\n",
       "29995                      আমার মনে হচ্ছে মেনে নেয়া উচিত     0\n",
       "29996                       আমি ধন্যবাদ জানাই আইনপসাসনকে     0\n",
       "29997           কাসমির কাসমিরই নিজশ্যই সাদিন হওয়ার দরকার     0\n",
       "29998                 কলমি পিলিজ আপু মনি অনেক কিওট লাগছে     0\n",
       "29999                         আমি পাকিস্তান এর সাথে জড়িত     0\n",
       "\n",
       "[30000 rows x 2 columns]"
      ]
     },
     "execution_count": 9,
     "metadata": {},
     "output_type": "execute_result"
    }
   ],
   "source": [
    "from sklearn.preprocessing import LabelEncoder\n",
    "encoder = LabelEncoder()\n",
    "df['hate'] = encoder.fit_transform(df['hate'])\n",
    "df"
   ]
  },
  {
   "cell_type": "code",
   "execution_count": 10,
   "id": "025fc1fd",
   "metadata": {
    "execution": {
     "iopub.execute_input": "2024-05-31T07:14:24.053222Z",
     "iopub.status.busy": "2024-05-31T07:14:24.052813Z",
     "iopub.status.idle": "2024-05-31T07:14:24.062863Z",
     "shell.execute_reply": "2024-05-31T07:14:24.061554Z"
    },
    "papermill": {
     "duration": 0.020512,
     "end_time": "2024-05-31T07:14:24.065071",
     "exception": false,
     "start_time": "2024-05-31T07:14:24.044559",
     "status": "completed"
    },
    "tags": []
   },
   "outputs": [
    {
     "data": {
      "text/html": [
       "<div>\n",
       "<style scoped>\n",
       "    .dataframe tbody tr th:only-of-type {\n",
       "        vertical-align: middle;\n",
       "    }\n",
       "\n",
       "    .dataframe tbody tr th {\n",
       "        vertical-align: top;\n",
       "    }\n",
       "\n",
       "    .dataframe thead th {\n",
       "        text-align: right;\n",
       "    }\n",
       "</style>\n",
       "<table border=\"1\" class=\"dataframe\">\n",
       "  <thead>\n",
       "    <tr style=\"text-align: right;\">\n",
       "      <th></th>\n",
       "      <th>sentence</th>\n",
       "      <th>hate</th>\n",
       "    </tr>\n",
       "  </thead>\n",
       "  <tbody>\n",
       "    <tr>\n",
       "      <th>0</th>\n",
       "      <td>যত্তসব পাপন শালার ফাজলামী</td>\n",
       "      <td>1</td>\n",
       "    </tr>\n",
       "    <tr>\n",
       "      <th>1</th>\n",
       "      <td>পাপন শালা রে রিমান্ডে নেওয়া দরকার</td>\n",
       "      <td>1</td>\n",
       "    </tr>\n",
       "    <tr>\n",
       "      <th>2</th>\n",
       "      <td>জিল্লুর রহমান স্যারের ছেলে এতো বড় জারজ হবে এট...</td>\n",
       "      <td>1</td>\n",
       "    </tr>\n",
       "    <tr>\n",
       "      <th>3</th>\n",
       "      <td>শালা লুচ্চা দেখতে পাঠার মত দেখা যায়</td>\n",
       "      <td>1</td>\n",
       "    </tr>\n",
       "    <tr>\n",
       "      <th>4</th>\n",
       "      <td>তুই তো শালা গাজা খাইছচতুর মার হেডায় খেলবে সাকিব</td>\n",
       "      <td>1</td>\n",
       "    </tr>\n",
       "  </tbody>\n",
       "</table>\n",
       "</div>"
      ],
      "text/plain": [
       "                                            sentence  hate\n",
       "0                          যত্তসব পাপন শালার ফাজলামী     1\n",
       "1                  পাপন শালা রে রিমান্ডে নেওয়া দরকার     1\n",
       "2   জিল্লুর রহমান স্যারের ছেলে এতো বড় জারজ হবে এট...     1\n",
       "3                শালা লুচ্চা দেখতে পাঠার মত দেখা যায়     1\n",
       "4    তুই তো শালা গাজা খাইছচতুর মার হেডায় খেলবে সাকিব     1"
      ]
     },
     "execution_count": 10,
     "metadata": {},
     "output_type": "execute_result"
    }
   ],
   "source": [
    "df.head()"
   ]
  },
  {
   "cell_type": "code",
   "execution_count": 11,
   "id": "645c7745",
   "metadata": {
    "execution": {
     "iopub.execute_input": "2024-05-31T07:14:24.081853Z",
     "iopub.status.busy": "2024-05-31T07:14:24.080631Z",
     "iopub.status.idle": "2024-05-31T07:14:24.914885Z",
     "shell.execute_reply": "2024-05-31T07:14:24.913601Z"
    },
    "papermill": {
     "duration": 0.845305,
     "end_time": "2024-05-31T07:14:24.917542",
     "exception": false,
     "start_time": "2024-05-31T07:14:24.072237",
     "status": "completed"
    },
    "tags": []
   },
   "outputs": [],
   "source": [
    "######### foreign language removing #######\n",
    "def for_lan_re(text):\n",
    "    text = \"\".join(i for i in text if i in [\".\",\"।\"] or 2432 <= ord(i) <= 2559 or ord(i)== 32)\n",
    "    sentence = re.sub(' +', ' ', text)\n",
    "    return sentence\n",
    "df.sentence = df.sentence.apply(lambda x: for_lan_re(x))"
   ]
  },
  {
   "cell_type": "code",
   "execution_count": 12,
   "id": "4a0aa8d8",
   "metadata": {
    "execution": {
     "iopub.execute_input": "2024-05-31T07:14:24.934965Z",
     "iopub.status.busy": "2024-05-31T07:14:24.933614Z",
     "iopub.status.idle": "2024-05-31T07:14:25.130363Z",
     "shell.execute_reply": "2024-05-31T07:14:25.128878Z"
    },
    "papermill": {
     "duration": 0.208122,
     "end_time": "2024-05-31T07:14:25.133150",
     "exception": false,
     "start_time": "2024-05-31T07:14:24.925028",
     "status": "completed"
    },
    "tags": []
   },
   "outputs": [
    {
     "name": "stdout",
     "output_type": "stream",
     "text": [
      "\n",
      "DataFrame after removing emojis:\n"
     ]
    },
    {
     "data": {
      "text/html": [
       "<div>\n",
       "<style scoped>\n",
       "    .dataframe tbody tr th:only-of-type {\n",
       "        vertical-align: middle;\n",
       "    }\n",
       "\n",
       "    .dataframe tbody tr th {\n",
       "        vertical-align: top;\n",
       "    }\n",
       "\n",
       "    .dataframe thead th {\n",
       "        text-align: right;\n",
       "    }\n",
       "</style>\n",
       "<table border=\"1\" class=\"dataframe\">\n",
       "  <thead>\n",
       "    <tr style=\"text-align: right;\">\n",
       "      <th></th>\n",
       "      <th>sentence</th>\n",
       "      <th>hate</th>\n",
       "    </tr>\n",
       "  </thead>\n",
       "  <tbody>\n",
       "    <tr>\n",
       "      <th>13056</th>\n",
       "      <td>এই সিনেমার মতো তোমার বাস্তব জীবন টা তোমার দু...</td>\n",
       "      <td>0</td>\n",
       "    </tr>\n",
       "    <tr>\n",
       "      <th>17075</th>\n",
       "      <td>পেক না তাকে রিমান্ড এ নিয়ে গেলে সটিক তত্ত্ব চ...</td>\n",
       "      <td>0</td>\n",
       "    </tr>\n",
       "    <tr>\n",
       "      <th>18093</th>\n",
       "      <td>সাধনাই ক্যামেরা লাগিয়েছে এটা প্রথম ভিডিও দেখে...</td>\n",
       "      <td>0</td>\n",
       "    </tr>\n",
       "    <tr>\n",
       "      <th>6978</th>\n",
       "      <td>লুচ্চা কাউয়া কাদির আর ভালো হইলো না</td>\n",
       "      <td>1</td>\n",
       "    </tr>\n",
       "    <tr>\n",
       "      <th>19478</th>\n",
       "      <td>ভাইয়া এমন অনেক ভন্ড আছে দেশে সেগুলাকেও রোস্ট ...</td>\n",
       "      <td>0</td>\n",
       "    </tr>\n",
       "    <tr>\n",
       "      <th>15264</th>\n",
       "      <td>নিচ তলা ভাড়া হবে</td>\n",
       "      <td>0</td>\n",
       "    </tr>\n",
       "    <tr>\n",
       "      <th>14268</th>\n",
       "      <td>সালমান শাহ সেরাদের সেরা</td>\n",
       "      <td>0</td>\n",
       "    </tr>\n",
       "    <tr>\n",
       "      <th>6710</th>\n",
       "      <td>সালা পাগলএকবার বউ বলে আবার মা বলে</td>\n",
       "      <td>1</td>\n",
       "    </tr>\n",
       "    <tr>\n",
       "      <th>7168</th>\n",
       "      <td>বোকাচোদা বাঙাল আমি নিজে দেখেছি আমার পরিচিত এক...</td>\n",
       "      <td>1</td>\n",
       "    </tr>\n",
       "    <tr>\n",
       "      <th>13501</th>\n",
       "      <td>সাকিব খান মানেই অন্য রকম কিছু</td>\n",
       "      <td>0</td>\n",
       "    </tr>\n",
       "  </tbody>\n",
       "</table>\n",
       "</div>"
      ],
      "text/plain": [
       "                                                sentence  hate\n",
       "13056   এই সিনেমার মতো তোমার বাস্তব জীবন টা তোমার দু...     0\n",
       "17075   পেক না তাকে রিমান্ড এ নিয়ে গেলে সটিক তত্ত্ব চ...     0\n",
       "18093   সাধনাই ক্যামেরা লাগিয়েছে এটা প্রথম ভিডিও দেখে...     0\n",
       "6978                  লুচ্চা কাউয়া কাদির আর ভালো হইলো না     1\n",
       "19478   ভাইয়া এমন অনেক ভন্ড আছে দেশে সেগুলাকেও রোস্ট ...     0\n",
       "15264                                  নিচ তলা ভাড়া হবে      0\n",
       "14268                           সালমান শাহ সেরাদের সেরা      0\n",
       "6710                   সালা পাগলএকবার বউ বলে আবার মা বলে     1\n",
       "7168    বোকাচোদা বাঙাল আমি নিজে দেখেছি আমার পরিচিত এক...     1\n",
       "13501                      সাকিব খান মানেই অন্য রকম কিছু     0"
      ]
     },
     "execution_count": 12,
     "metadata": {},
     "output_type": "execute_result"
    }
   ],
   "source": [
    "def remove_emojis(text):\n",
    "    emoji_pattern = re.compile(\"[\"\n",
    "                               u\"\\U0001F600-\\U0001F64F\"\n",
    "                               u\"\\U0001F300-\\U0001F5FF\"\n",
    "                               u\"\\U0001F680-\\U0001F6FF\"\n",
    "                               u\"\\U0001F700-\\U0001F77F\"\n",
    "                               u\"\\U0001F780-\\U0001F7FF\"\n",
    "                               u\"\\U0001F800-\\U0001F8FF\"\n",
    "                               u\"\\U0001F900-\\U0001F9FF\"\n",
    "                               u\"\\U0001FA00-\\U0001FA6F\"\n",
    "                               u\"\\U0001FA70-\\U0001FAFF\"\n",
    "                               u\"\\U00002702-\\U000027B0\"\n",
    "                               u\"\\U000024C2-\\U0001F251\"\n",
    "                               \"]+\", flags=re.UNICODE)\n",
    "    return emoji_pattern.sub(r'', text)\n",
    "\n",
    "# Apply the remove_emojis function to the 'Text' column\n",
    "df['sentence'] = df['sentence'].apply(remove_emojis)\n",
    "\n",
    "# Display the modified DataFrame\n",
    "print(\"\\nDataFrame after removing emojis:\")\n",
    "\n",
    "df.sample(10)"
   ]
  },
  {
   "cell_type": "code",
   "execution_count": 13,
   "id": "5d3405dd",
   "metadata": {
    "execution": {
     "iopub.execute_input": "2024-05-31T07:14:25.150276Z",
     "iopub.status.busy": "2024-05-31T07:14:25.149887Z",
     "iopub.status.idle": "2024-05-31T07:14:25.421146Z",
     "shell.execute_reply": "2024-05-31T07:14:25.419816Z"
    },
    "papermill": {
     "duration": 0.283058,
     "end_time": "2024-05-31T07:14:25.423793",
     "exception": false,
     "start_time": "2024-05-31T07:14:25.140735",
     "status": "completed"
    },
    "tags": []
   },
   "outputs": [
    {
     "data": {
      "image/png": "[encoded data removed]",
      "text/plain": [
       "<Figure size 640x480 with 1 Axes>"
      ]
     },
     "metadata": {},
     "output_type": "display_data"
    }
   ],
   "source": [
    "import pandas as pd\n",
    "import matplotlib.pyplot as plt\n",
    "value_counts = df['hate'].value_counts()\n",
    "\n",
    "# Plot a pie chart\n",
    "value_counts.plot.pie(autopct='%.1f%%')\n",
    "\n",
    "# Add a title\n",
    "plt.title(\"Sample Pie Chart\")\n",
    "\n",
    "# Show the plot\n",
    "plt.savefig(\"Imbalanced Dataset.jpeg\", dpi = 250)\n",
    "plt.show()"
   ]
  },
  {
   "cell_type": "code",
   "execution_count": 14,
   "id": "88ed7f66",
   "metadata": {
    "execution": {
     "iopub.execute_input": "2024-05-31T07:14:25.442633Z",
     "iopub.status.busy": "2024-05-31T07:14:25.441637Z",
     "iopub.status.idle": "2024-05-31T07:14:25.666099Z",
     "shell.execute_reply": "2024-05-31T07:14:25.664864Z"
    },
    "papermill": {
     "duration": 0.236763,
     "end_time": "2024-05-31T07:14:25.668693",
     "exception": false,
     "start_time": "2024-05-31T07:14:25.431930",
     "status": "completed"
    },
    "tags": []
   },
   "outputs": [
    {
     "data": {
      "image/png": "[encoded data removed]",
      "text/plain": [
       "<Figure size 900x300 with 1 Axes>"
      ]
     },
     "metadata": {},
     "output_type": "display_data"
    }
   ],
   "source": [
    "sns.set(font_scale=1.4)\n",
    "df['hate'].value_counts().plot(kind='barh', figsize=(9, 3))\n",
    "plt.xlabel(\"Number of Comments\", labelpad=12)\n",
    "plt.ylabel(\"Sentiment Class\", labelpad=12)\n",
    "plt.yticks(rotation = 45)\n",
    "plt.title(\"Data Distribution\", y=1.02);"
   ]
  },
  {
   "cell_type": "code",
   "execution_count": 15,
   "id": "1f425b40",
   "metadata": {
    "execution": {
     "iopub.execute_input": "2024-05-31T07:14:25.687461Z",
     "iopub.status.busy": "2024-05-31T07:14:25.687076Z",
     "iopub.status.idle": "2024-05-31T07:14:26.477877Z",
     "shell.execute_reply": "2024-05-31T07:14:26.476700Z"
    },
    "papermill": {
     "duration": 0.803638,
     "end_time": "2024-05-31T07:14:26.480855",
     "exception": false,
     "start_time": "2024-05-31T07:14:25.677217",
     "status": "completed"
    },
    "tags": []
   },
   "outputs": [
    {
     "data": {
      "image/png": "[encoded data removed]",
      "text/plain": [
       "<Figure size 640x480 with 1 Axes>"
      ]
     },
     "metadata": {},
     "output_type": "display_data"
    },
    {
     "name": "stdout",
     "output_type": "stream",
     "text": [
      "Maximum Length of a review: 534\n",
      "Minimum Length of a review: 0\n",
      "Average Length of a reviews: 14.0\n"
     ]
    }
   ],
   "source": [
    "# Calculate the Review of each of the Review\n",
    "df['ReviewLength'] = df.sentence.apply(lambda x:len(x.split()))\n",
    "frequency = dict()\n",
    "for i in df.ReviewLength:\n",
    "    frequency[i] = frequency.get(i, 0)+1\n",
    "\n",
    "plt.bar(frequency.keys(), frequency.values(), color =\"b\")\n",
    "plt.xlim(1, 135)\n",
    "# in this notbook color is not working but it should work.\n",
    "plt.xlabel('Lenght of the Texts')\n",
    "plt.ylabel('Frequency')\n",
    "plt.title('Length-Frequency Distribution')\n",
    "plt.show()\n",
    "print(f\"Maximum Length of a review: {max(df.ReviewLength)}\")\n",
    "print(f\"Minimum Length of a review: {min(df.ReviewLength)}\")\n",
    "print(f\"Average Length of a reviews: {round(np.mean(df.ReviewLength),0)}\")"
   ]
  },
  {
   "cell_type": "code",
   "execution_count": 16,
   "id": "4cdd78d9",
   "metadata": {
    "execution": {
     "iopub.execute_input": "2024-05-31T07:14:26.501766Z",
     "iopub.status.busy": "2024-05-31T07:14:26.501329Z",
     "iopub.status.idle": "2024-05-31T07:14:26.508469Z",
     "shell.execute_reply": "2024-05-31T07:14:26.507426Z"
    },
    "papermill": {
     "duration": 0.019991,
     "end_time": "2024-05-31T07:14:26.510781",
     "exception": false,
     "start_time": "2024-05-31T07:14:26.490790",
     "status": "completed"
    },
    "tags": []
   },
   "outputs": [
    {
     "data": {
      "text/plain": [
       "(30000, 3)"
      ]
     },
     "execution_count": 16,
     "metadata": {},
     "output_type": "execute_result"
    }
   ],
   "source": [
    "df.shape"
   ]
  },
  {
   "cell_type": "code",
   "execution_count": 17,
   "id": "6dbe2aae",
   "metadata": {
    "execution": {
     "iopub.execute_input": "2024-05-31T07:14:26.531631Z",
     "iopub.status.busy": "2024-05-31T07:14:26.531193Z",
     "iopub.status.idle": "2024-05-31T07:14:26.538852Z",
     "shell.execute_reply": "2024-05-31T07:14:26.537707Z"
    },
    "papermill": {
     "duration": 0.021175,
     "end_time": "2024-05-31T07:14:26.541420",
     "exception": false,
     "start_time": "2024-05-31T07:14:26.520245",
     "status": "completed"
    },
    "tags": []
   },
   "outputs": [
    {
     "name": "stdout",
     "output_type": "stream",
     "text": [
      "hate\n",
      "0    20000\n",
      "1    10000\n",
      "Name: count, dtype: int64\n"
     ]
    }
   ],
   "source": [
    "# count the number of samples in each class\n",
    "class_counts = df['hate'].value_counts()\n",
    "print(class_counts)"
   ]
  },
  {
   "cell_type": "code",
   "execution_count": 18,
   "id": "d6727cf9",
   "metadata": {
    "execution": {
     "iopub.execute_input": "2024-05-31T07:14:26.562696Z",
     "iopub.status.busy": "2024-05-31T07:14:26.562290Z",
     "iopub.status.idle": "2024-05-31T07:14:26.582968Z",
     "shell.execute_reply": "2024-05-31T07:14:26.581760Z"
    },
    "papermill": {
     "duration": 0.033926,
     "end_time": "2024-05-31T07:14:26.585233",
     "exception": false,
     "start_time": "2024-05-31T07:14:26.551307",
     "status": "completed"
    },
    "tags": []
   },
   "outputs": [
    {
     "name": "stdout",
     "output_type": "stream",
     "text": [
      "10000\n"
     ]
    }
   ],
   "source": [
    "# identify the class with the least samples\n",
    "min_class = class_counts.idxmin()\n",
    "max_class = class_counts.idxmax()\n",
    "# calculate the number of samples required to balance the classes\n",
    "upsample_size = class_counts[max_class] - class_counts[min_class]\n",
    "print(upsample_size)\n",
    "## applying upsampling. \n",
    "# upsample the minority class to balance the classes\n",
    "# It samples the data from the data frame with replacement, meaning that it can choose the same sample multiple times.\n",
    "df_minority_upsampled = df[df['hate'] == min_class].sample(n=upsample_size, replace=True, random_state=42)\n",
    "df_upsampled = pd.concat([df, df_minority_upsampled])\n",
    "# shuffle the samples in the balanced dataset\n",
    "df_upsampled = df_upsampled.sample(frac=1, random_state=42).reset_index(drop=True)\n",
    "# save the balanced dataset to a file"
   ]
  },
  {
   "cell_type": "code",
   "execution_count": 19,
   "id": "125daf2b",
   "metadata": {
    "execution": {
     "iopub.execute_input": "2024-05-31T07:14:26.605881Z",
     "iopub.status.busy": "2024-05-31T07:14:26.605433Z",
     "iopub.status.idle": "2024-05-31T07:14:26.776035Z",
     "shell.execute_reply": "2024-05-31T07:14:26.774326Z"
    },
    "papermill": {
     "duration": 0.186272,
     "end_time": "2024-05-31T07:14:26.780945",
     "exception": false,
     "start_time": "2024-05-31T07:14:26.594673",
     "status": "completed"
    },
    "tags": []
   },
   "outputs": [
    {
     "data": {
      "image/png": "[encoded data removed]",
      "text/plain": [
       "<Figure size 640x480 with 1 Axes>"
      ]
     },
     "metadata": {},
     "output_type": "display_data"
    }
   ],
   "source": [
    "import pandas as pd\n",
    "import matplotlib.pyplot as plt\n",
    "value_counts = df_upsampled['hate'].value_counts()\n",
    "\n",
    "# Plot a pie chart\n",
    "value_counts.plot.pie(autopct='%.1f%%')\n",
    "\n",
    "# Add a title\n",
    "plt.title(\"Sample Pie Chart\")\n",
    "\n",
    "# Show the plot\n",
    "plt.savefig(\"Balanced Dataset.jpeg\", dpi = 250)\n",
    "plt.show()"
   ]
  },
  {
   "cell_type": "code",
   "execution_count": 20,
   "id": "fe839eea",
   "metadata": {
    "execution": {
     "iopub.execute_input": "2024-05-31T07:14:26.819276Z",
     "iopub.status.busy": "2024-05-31T07:14:26.818342Z",
     "iopub.status.idle": "2024-05-31T07:14:26.832377Z",
     "shell.execute_reply": "2024-05-31T07:14:26.831023Z"
    },
    "papermill": {
     "duration": 0.036791,
     "end_time": "2024-05-31T07:14:26.835841",
     "exception": false,
     "start_time": "2024-05-31T07:14:26.799050",
     "status": "completed"
    },
    "tags": []
   },
   "outputs": [
    {
     "data": {
      "text/html": [
       "<div>\n",
       "<style scoped>\n",
       "    .dataframe tbody tr th:only-of-type {\n",
       "        vertical-align: middle;\n",
       "    }\n",
       "\n",
       "    .dataframe tbody tr th {\n",
       "        vertical-align: top;\n",
       "    }\n",
       "\n",
       "    .dataframe thead th {\n",
       "        text-align: right;\n",
       "    }\n",
       "</style>\n",
       "<table border=\"1\" class=\"dataframe\">\n",
       "  <thead>\n",
       "    <tr style=\"text-align: right;\">\n",
       "      <th></th>\n",
       "      <th>sentence</th>\n",
       "      <th>hate</th>\n",
       "      <th>ReviewLength</th>\n",
       "    </tr>\n",
       "  </thead>\n",
       "  <tbody>\n",
       "    <tr>\n",
       "      <th>0</th>\n",
       "      <td>যত্তসব পাপন শালার ফাজলামী</td>\n",
       "      <td>1</td>\n",
       "      <td>4</td>\n",
       "    </tr>\n",
       "    <tr>\n",
       "      <th>1</th>\n",
       "      <td>পাপন শালা রে রিমান্ডে নেওয়া দরকার</td>\n",
       "      <td>1</td>\n",
       "      <td>6</td>\n",
       "    </tr>\n",
       "    <tr>\n",
       "      <th>2</th>\n",
       "      <td>জিল্লুর রহমান স্যারের ছেলে এতো বড় জারজ হবে এট...</td>\n",
       "      <td>1</td>\n",
       "      <td>19</td>\n",
       "    </tr>\n",
       "    <tr>\n",
       "      <th>3</th>\n",
       "      <td>শালা লুচ্চা দেখতে পাঠার মত দেখা যায়</td>\n",
       "      <td>1</td>\n",
       "      <td>7</td>\n",
       "    </tr>\n",
       "    <tr>\n",
       "      <th>4</th>\n",
       "      <td>তুই তো শালা গাজা খাইছচতুর মার হেডায় খেলবে সাকিব</td>\n",
       "      <td>1</td>\n",
       "      <td>9</td>\n",
       "    </tr>\n",
       "  </tbody>\n",
       "</table>\n",
       "</div>"
      ],
      "text/plain": [
       "                                            sentence  hate  ReviewLength\n",
       "0                          যত্তসব পাপন শালার ফাজলামী     1             4\n",
       "1                  পাপন শালা রে রিমান্ডে নেওয়া দরকার     1             6\n",
       "2   জিল্লুর রহমান স্যারের ছেলে এতো বড় জারজ হবে এট...     1            19\n",
       "3                শালা লুচ্চা দেখতে পাঠার মত দেখা যায়     1             7\n",
       "4    তুই তো শালা গাজা খাইছচতুর মার হেডায় খেলবে সাকিব     1             9"
      ]
     },
     "execution_count": 20,
     "metadata": {},
     "output_type": "execute_result"
    }
   ],
   "source": [
    "df.head()"
   ]
  },
  {
   "cell_type": "code",
   "execution_count": 21,
   "id": "a88befb1",
   "metadata": {
    "execution": {
     "iopub.execute_input": "2024-05-31T07:14:26.869081Z",
     "iopub.status.busy": "2024-05-31T07:14:26.868357Z",
     "iopub.status.idle": "2024-05-31T07:14:31.713163Z",
     "shell.execute_reply": "2024-05-31T07:14:31.711714Z"
    },
    "papermill": {
     "duration": 4.861411,
     "end_time": "2024-05-31T07:14:31.715735",
     "exception": false,
     "start_time": "2024-05-31T07:14:26.854324",
     "status": "completed"
    },
    "tags": []
   },
   "outputs": [],
   "source": [
    "import re\n",
    "import nltk\n",
    "from nltk.corpus import stopwords\n",
    "import string\n",
    "\n",
    "def transform_text(text):\n",
    "    text = nltk.word_tokenize(text)\n",
    "\n",
    "    y = []\n",
    "    for i in text:\n",
    "        i = re.sub(r'\\W+', '', i)\n",
    "        if i:\n",
    "            y.append(i)\n",
    "            \n",
    "    return \" \".join(y)\n",
    "df['transformed_text'] = df['sentence'].apply(transform_text)"
   ]
  },
  {
   "cell_type": "code",
   "execution_count": 22,
   "id": "71c23690",
   "metadata": {
    "execution": {
     "iopub.execute_input": "2024-05-31T07:14:31.738652Z",
     "iopub.status.busy": "2024-05-31T07:14:31.738036Z",
     "iopub.status.idle": "2024-05-31T07:14:37.042759Z",
     "shell.execute_reply": "2024-05-31T07:14:37.041542Z"
    },
    "papermill": {
     "duration": 5.320879,
     "end_time": "2024-05-31T07:14:37.046990",
     "exception": false,
     "start_time": "2024-05-31T07:14:31.726111",
     "status": "completed"
    },
    "tags": []
   },
   "outputs": [
    {
     "name": "stdout",
     "output_type": "stream",
     "text": [
      "Accuracy:87.64999999999999%\n",
      "Precision:88.37492391965917%\n",
      "Confusion Matrix:\n",
      "[[3807  191]\n",
      " [ 550 1452]]\n"
     ]
    }
   ],
   "source": [
    "# Split data into features and target variable\n",
    "X = df['transformed_text']\n",
    "y = df['hate']\n",
    "\n",
    "# Split data into training and testing sets\n",
    "X_train, X_test, y_train, y_test = train_test_split(X, y, test_size=0.2, random_state=42)\n",
    "\n",
    "# Experiment with different TF-IDF parameters\n",
    "tfidf = TfidfVectorizer(max_features=5000, ngram_range=(1, 3), min_df=2)\n",
    "X_train_tfidf = tfidf.fit_transform(X_train).toarray()\n",
    "X_test_tfidf = tfidf.transform(X_test).toarray()\n",
    "\n",
    "# # Perform feature selection using chi-square test\n",
    "# selector = SelectKBest(chi2, k=5000)\n",
    "# X_train_selected = selector.fit_transform(X_train_tfidf, y_train)\n",
    "# X_test_selected = selector.transform(X_test_tfidf)\n",
    "\n",
    "\n",
    "# Train Logistic Regression model\n",
    "lrc = LogisticRegression(solver='liblinear', penalty='l1')\n",
    "lrc.fit(X_train_tfidf, y_train)\n",
    "\n",
    "# Make predictions\n",
    "y_pred = lrc.predict(X_test_tfidf)\n",
    "\n",
    "# Evaluate model performance\n",
    "accuracy = accuracy_score(y_test, y_pred)\n",
    "precision = precision_score(y_test, y_pred)\n",
    "conf_matrix = confusion_matrix(y_test, y_pred)\n",
    "\n",
    "print(f\"Accuracy:{accuracy*100}%\")\n",
    "print(f\"Precision:{precision*100}%\")\n",
    "print(\"Confusion Matrix:\")\n",
    "print(conf_matrix)"
   ]
  },
  {
   "cell_type": "code",
   "execution_count": 23,
   "id": "6824959b",
   "metadata": {
    "execution": {
     "iopub.execute_input": "2024-05-31T07:14:37.088084Z",
     "iopub.status.busy": "2024-05-31T07:14:37.087501Z",
     "iopub.status.idle": "2024-05-31T07:47:33.397138Z",
     "shell.execute_reply": "2024-05-31T07:47:33.395873Z"
    },
    "papermill": {
     "duration": 1976.342753,
     "end_time": "2024-05-31T07:47:33.410047",
     "exception": false,
     "start_time": "2024-05-31T07:14:37.067294",
     "status": "completed"
    },
    "tags": []
   },
   "outputs": [
    {
     "name": "stdout",
     "output_type": "stream",
     "text": [
      "Classifier: Logistic Regression\n",
      "Accuracy:87.64999999999999%\n",
      "Precision:88.37492391965917%\n",
      "Confusion Matrix:\n",
      "[[3807  191]\n",
      " [ 550 1452]]\n",
      "---------------------------------------\n",
      "Classifier: Random Forest\n",
      "Accuracy:86.98333333333333%\n",
      "Precision:85.02581755593803%\n",
      "Confusion Matrix:\n",
      "[[3737  261]\n",
      " [ 520 1482]]\n",
      "---------------------------------------\n",
      "Classifier: Gradient Boosting\n",
      "Accuracy:82.93333333333334%\n",
      "Precision:90.54726368159204%\n",
      "Confusion Matrix:\n",
      "[[3884  114]\n",
      " [ 910 1092]]\n",
      "---------------------------------------\n",
      "Classifier: SVM\n",
      "Accuracy:87.26666666666667%\n",
      "Precision:87.60631834750912%\n",
      "Confusion Matrix:\n",
      "[[3794  204]\n",
      " [ 560 1442]]\n",
      "---------------------------------------\n"
     ]
    }
   ],
   "source": [
    "from sklearn.ensemble import RandomForestClassifier, GradientBoostingClassifier\n",
    "from sklearn.svm import SVC\n",
    "\n",
    "# Split data into features and target variable\n",
    "X = df['transformed_text']\n",
    "y = df['hate']\n",
    "\n",
    "# Split data into training and testing sets\n",
    "X_train, X_test, y_train, y_test = train_test_split(X, y, test_size=0.2, random_state=42)\n",
    "\n",
    "# Experiment with different TF-IDF parameters\n",
    "tfidf = TfidfVectorizer(max_features=5000, ngram_range=(1, 3), min_df=2)\n",
    "X_train_tfidf = tfidf.fit_transform(X_train).toarray()\n",
    "X_test_tfidf = tfidf.transform(X_test).toarray()\n",
    "\n",
    "\n",
    "\n",
    "# Initialize classifiers\n",
    "classifiers = {\n",
    "    'Logistic Regression': LogisticRegression(solver='liblinear', penalty='l1'),\n",
    "    'Random Forest': RandomForestClassifier(),\n",
    "    'Gradient Boosting': GradientBoostingClassifier(),\n",
    "    'SVM': SVC(kernel='linear')\n",
    "}\n",
    "\n",
    "# Train and evaluate each classifier\n",
    "for clf_name, clf in classifiers.items():\n",
    "    clf.fit(X_train_tfidf, y_train)\n",
    "    y_pred = clf.predict(X_test_tfidf)\n",
    "    accuracy = accuracy_score(y_test, y_pred)\n",
    "    precision = precision_score(y_test, y_pred)\n",
    "    conf_matrix = confusion_matrix(y_test, y_pred)\n",
    "    \n",
    "    print(f\"Classifier: {clf_name}\")\n",
    "    print(f\"Accuracy:{accuracy*100}%\")\n",
    "    print(f\"Precision:{precision*100}%\")\n",
    "    print(\"Confusion Matrix:\")\n",
    "    print(conf_matrix)\n",
    "    print(\"---------------------------------------\")"
   ]
  }
 ],
 "metadata": {
  "kaggle": {
   "accelerator": "none",
   "dataSources": [
    {
     "datasetId": 1109107,
     "sourceId": 1863613,
     "sourceType": "datasetVersion"
    }
   ],
   "dockerImageVersionId": 30715,
   "isGpuEnabled": false,
   "isInternetEnabled": false,
   "language": "python",
   "sourceType": "notebook"
  },
  "kernelspec": {
   "display_name": "Python 3",
   "language": "python",
   "name": "python3"
  },
  "language_info": {
   "codemirror_mode": {
    "name": "ipython",
    "version": 3
   },
   "file_extension": ".py",
   "mimetype": "text/x-python",
   "name": "python",
   "nbconvert_exporter": "python",
   "pygments_lexer": "ipython3",
   "version": "3.10.13"
  },
  "papermill": {
   "default_parameters": {},
   "duration": 1998.462728,
   "end_time": "2024-05-31T07:47:34.450535",
   "environment_variables": {},
   "exception": null,
   "input_path": "__notebook__.ipynb",
   "output_path": "__notebook__.ipynb",
   "parameters": {},
   "start_time": "2024-05-31T07:14:15.987807",
   "version": "2.5.0"
  }
 },
 "nbformat": 4,
 "nbformat_minor": 5
}
